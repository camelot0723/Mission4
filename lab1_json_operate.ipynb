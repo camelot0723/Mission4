{
 "cells": [
  {
   "cell_type": "code",
   "execution_count": 1,
   "metadata": {},
   "outputs": [
    {
     "name": "stdout",
     "output_type": "stream",
     "text": [
      "{'array': [1, 2, 3, 4],\n",
      " 'number': 830829,\n",
      " 'object': {'birthday': '830829', 'season': 'summer'},\n",
      " 'string': 'Happy Holiday'}\n",
      "{'string': 'Teacher is nice', 'number': '19940829', 'array': [5, 6, 7, 8], 'object': {'birthday': '1994', 'season': 'fall'}}\n"
     ]
    }
   ],
   "source": [
    "\n",
    "#引用json套件\n",
    "import os\n",
    "import json\n",
    "from pprint import pprint\n",
    "\n",
    "#創立檔案名稱\n",
    "fileName = \"camelot.json\"\n",
    "\n",
    "#新增一個json(建立json物件)\n",
    "data={\n",
    "      \"string\":\"Happy Holiday\" , \n",
    "      \"number\":830829 ,\n",
    "      \"array\":[1,2,3,4],\n",
    "      \"object\":{\"birthday\":\"830829\",\"season\":\"summer\"}\n",
    "     }\n",
    "\n",
    "#列印出jsonobject的內容\n",
    "pprint(data)\n",
    "\n",
    "#寫入檔案\n",
    "writeFile = open( fileName,'w')\n",
    "writeFile.write(json.dumps(data))\n",
    "writeFile.close()\n",
    "\n",
    "#讀取json檔案\n",
    "readFile = open( fileName,'r')\n",
    "jsonObject=json.load(readFile)\n",
    "readFile.close()\n",
    "\n",
    "#修改欄位內容\n",
    "jsonObject[\"string\"] = \"Teacher is nice\"\n",
    "jsonObject[\"number\"] = \"19940829\"\n",
    "jsonObject[\"array\"]=[5,6,7,8]\n",
    "jsonObject[\"object\"]={\"birthday\":\"1994\",\"season\":\"fall\"}\n",
    "\n",
    "#列印出jsonObject的內容\n",
    "print(jsonObject)\n",
    "\n",
    "#回寫至檔案\n",
    "rewriteFile = open(fileName,'w')\n",
    "rewriteFile.write(json.dumps(jsonObject))\n",
    "rewriteFile.close()"
   ]
  },
  {
   "cell_type": "code",
   "execution_count": null,
   "metadata": {},
   "outputs": [],
   "source": []
  }
 ],
 "metadata": {
  "kernelspec": {
   "display_name": "Python 3",
   "language": "python",
   "name": "python3"
  },
  "language_info": {
   "codemirror_mode": {
    "name": "ipython",
    "version": 3
   },
   "file_extension": ".py",
   "mimetype": "text/x-python",
   "name": "python",
   "nbconvert_exporter": "python",
   "pygments_lexer": "ipython3",
   "version": "3.7.1"
  }
 },
 "nbformat": 4,
 "nbformat_minor": 2
}
